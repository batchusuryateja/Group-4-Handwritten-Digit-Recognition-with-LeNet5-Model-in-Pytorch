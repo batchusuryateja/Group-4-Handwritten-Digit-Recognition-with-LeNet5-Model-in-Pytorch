{
 "cells": [
  {
   "cell_type": "markdown",
   "id": "df69b226-ca5b-46d7-a0bd-0688bdd18bca",
   "metadata": {},
   "source": [
    "# 1. Loading MNIST Dataset"
   ]
  },
  {
   "cell_type": "code",
   "execution_count": 45,
   "id": "5b441a32-32a3-4692-8744-0011ca7cb72f",
   "metadata": {},
   "outputs": [],
   "source": [
    "import gzip\n",
    "import numpy as np\n",
    "import pandas as pd\n",
    "import matplotlib.pyplot as plt\n",
    "import torch\n",
    "from torch.utils.data import DataLoader, Dataset\n",
    "import torch.optim as optim\n",
    "import torch.nn as nn\n",
    "import torch.nn.functional as F\n",
    "import torchvision.transforms as transforms\n",
    "from torch.utils.data import random_split\n",
    "from torchsummary import summary\n",
    "from PIL import Image"
   ]
  },
  {
   "cell_type": "code",
   "execution_count": 2,
   "id": "e9d9d0bd-3227-4b3a-9342-192682138f2a",
   "metadata": {},
   "outputs": [],
   "source": [
    "class MNISTDataset(Dataset):\n",
    "    def __init__(self, images_path, labels_path):\n",
    "        self.images = self._read_images(images_path)\n",
    "        self.labels = self._read_labels(labels_path)\n",
    "\n",
    "    def _read_images(self, filepath):\n",
    "        with open(filepath, 'rb') as f:\n",
    "            magic, num_images, rows, cols = np.frombuffer(f.read(16), dtype=np.dtype('>i4'))\n",
    "            data = np.frombuffer(f.read(), dtype=np.uint8)\n",
    "            data = data.reshape(num_images, 1, rows, cols).astype(np.float32) / 255.0\n",
    "        return data\n",
    "\n",
    "    def _read_labels(self, filepath):\n",
    "        with open(filepath, 'rb') as f:\n",
    "            magic, num_labels = np.frombuffer(f.read(8), dtype=np.dtype('>i4'))\n",
    "            labels = np.frombuffer(f.read(), dtype=np.uint8)\n",
    "        return labels\n",
    "\n",
    "    def __len__(self):\n",
    "        return len(self.labels)\n",
    "\n",
    "    def __getitem__(self, idx):\n",
    "        image = self.images[idx]\n",
    "        label = self.labels[idx]\n",
    "        return image, label"
   ]
  },
  {
   "cell_type": "code",
   "execution_count": 3,
   "id": "06a97ce2-05b7-4f2d-acd2-585aca4c932a",
   "metadata": {},
   "outputs": [],
   "source": [
    "# Adjust the paths to your files\n",
    "train_images_path = r'C:\\Users\\Surya Teja\\Desktop\\Project\\MNIST Labelled Dataset\\train-images.idx3-ubyte'\n",
    "train_labels_path = r'C:\\Users\\Surya Teja\\Desktop\\Project\\MNIST Labelled Dataset\\train-labels.idx1-ubyte'\n",
    "test_images_path = r'C:\\Users\\Surya Teja\\Desktop\\Project\\MNIST Labelled Dataset\\t10k-images.idx3-ubyte'\n",
    "test_labels_path = r'C:\\Users\\Surya Teja\\Desktop\\Project\\MNIST Labelled Dataset\\t10k-labels.idx1-ubyte'"
   ]
  },
  {
   "cell_type": "code",
   "execution_count": 4,
   "id": "fa549b1f-07bc-4a4b-8e5b-fbd6b8bbb05f",
   "metadata": {},
   "outputs": [],
   "source": [
    "# Create the dataset objects\n",
    "train_dataset = MNISTDataset(train_images_path, train_labels_path)\n",
    "test_dataset = MNISTDataset(test_images_path, test_labels_path)"
   ]
  },
  {
   "cell_type": "code",
   "execution_count": 5,
   "id": "e0ac08cd-dfd9-4e3a-b388-41ab1460bc55",
   "metadata": {},
   "outputs": [],
   "source": [
    "# Create DataLoaders\n",
    "train_loader = DataLoader(train_dataset, batch_size=64, shuffle=True)\n",
    "test_loader = DataLoader(test_dataset, batch_size=64, shuffle=False)"
   ]
  },
  {
   "cell_type": "markdown",
   "id": "55b40c25-37e2-4606-a0da-7a440dbd369f",
   "metadata": {},
   "source": [
    "## Displaying 5 random images from the dataset"
   ]
  },
  {
   "cell_type": "code",
   "execution_count": 6,
   "id": "2c0eadca-6947-4e0b-a2b0-76e41c9606a5",
   "metadata": {},
   "outputs": [
    {
     "data": {
      "image/png": "[encoded data removed]",
      "text/plain": [
       "<Figure size 1500x300 with 5 Axes>"
      ]
     },
     "metadata": {},
     "output_type": "display_data"
    }
   ],
   "source": [
    "# Define the class labels for MNIST dataset\n",
    "class_labels = \"0123456789\"\n",
    "\n",
    "# Function to display images from the dataset\n",
    "def display_images(images, labels, num_images=5):\n",
    "    fig, axes = plt.subplots(1, num_images, figsize=(15, 3))\n",
    "    for i in range(num_images):\n",
    "        ax = axes[i]\n",
    "        ax.imshow(images[i].squeeze(), cmap='gray')\n",
    "        ax.set_title(f\"Label: {class_labels[labels[i]]}\")\n",
    "        ax.axis('on')\n",
    "    plt.show()\n",
    "\n",
    "# Display some sample images from the training dataset\n",
    "sample_images, sample_labels = next(iter(train_loader))\n",
    "display_images(sample_images, sample_labels)"
   ]
  },
  {
   "cell_type": "markdown",
   "id": "3e892edc-b1dd-41d7-99aa-fef96b1835d5",
   "metadata": {},
   "source": [
    "# 2. Preprocessing the Data"
   ]
  },
  {
   "cell_type": "code",
   "execution_count": 7,
   "id": "859febce-059b-4461-b3fb-b8a621e16121",
   "metadata": {},
   "outputs": [],
   "source": [
    "# Define the transformation\n",
    "transform = transforms.Compose([\n",
    "    transforms.Resize((28, 28)),   # Resize the images to (28, 28)\n",
    "    transforms.ToTensor(),   # Convert NumPy array to tensor\n",
    "    transforms.Normalize((0.5,), (0.5,))  # Normalize the tensor\n",
    "]) "
   ]
  },
  {
   "cell_type": "code",
   "execution_count": 8,
   "id": "cd04e2ca-a0bd-4fcb-bbcc-e12cfbf8c908",
   "metadata": {},
   "outputs": [],
   "source": [
    "class MNISTDataset(Dataset):\n",
    "    def __init__(self, images_path, labels_path, transform=None):\n",
    "        self.images = self._read_images(images_path)\n",
    "        self.labels = self._read_labels(labels_path)\n",
    "        self.transform = transform\n",
    "\n",
    "    def _read_images(self, filepath):\n",
    "        with open(filepath, 'rb') as f:\n",
    "            magic, num_images, rows, cols = np.frombuffer(f.read(16), dtype=np.dtype('>i4'))\n",
    "            data = np.frombuffer(f.read(), dtype=np.uint8)\n",
    "            data = data.reshape(num_images, 1, rows, cols).astype(np.float32) / 255.0\n",
    "        return data\n",
    "\n",
    "    def _read_labels(self, filepath):\n",
    "        with open(filepath, 'rb') as f:\n",
    "            magic, num_labels = np.frombuffer(f.read(8), dtype=np.dtype('>i4'))\n",
    "            labels = np.frombuffer(f.read(), dtype=np.uint8)\n",
    "        return labels\n",
    "\n",
    "    def __len__(self):\n",
    "        return len(self.labels)\n",
    "\n",
    "    def __getitem__(self, idx):\n",
    "        image = self.images[idx]\n",
    "        label = self.labels[idx]\n",
    "        if self.transform:\n",
    "            image = self.transform(image)\n",
    "        return image, label"
   ]
  },
  {
   "cell_type": "markdown",
   "id": "a42d4221-0f92-4b1c-ba74-336ef0fbafe2",
   "metadata": {},
   "source": [
    "# 3. Splitting the Dataset"
   ]
  },
  {
   "cell_type": "code",
   "execution_count": 29,
   "id": "9b722f48-e373-43de-a8d9-4162f28b6bff",
   "metadata": {},
   "outputs": [],
   "source": [
    "# Create the dataset objects with transformations\n",
    "train_dataset = MNISTDataset(train_images_path, train_labels_path, transform=transform)\n",
    "test_dataset = MNISTDataset(test_images_path, test_labels_path, transform=transform)\n",
    "\n",
    "# Create DataLoaders\n",
    "train_loader = DataLoader(train_dataset, batch_size=64, shuffle=True)\n",
    "test_loader = DataLoader(test_dataset, batch_size=64, shuffle=False)\n",
    "\n",
    "dataset = MNISTDataset(train_images_path, train_labels_path)"
   ]
  },
  {
   "cell_type": "code",
   "execution_count": 30,
   "id": "7d9d91a3-4ea9-4d44-9563-81a8e62ce4e7",
   "metadata": {},
   "outputs": [],
   "source": [
    "train_size = int(0.8 * len(dataset))\n",
    "val_size = len(dataset) - train_size\n",
    "\n",
    "train_set, val_set = random_split(dataset, [train_size, val_size])\n",
    "\n",
    "train_loader = DataLoader(train_set, batch_size=64, shuffle=True)\n",
    "val_loader = DataLoader(val_set, batch_size=64, shuffle=False)"
   ]
  },
  {
   "cell_type": "code",
   "execution_count": 31,
   "id": "fa788ada-9745-4554-9338-186cb1641d84",
   "metadata": {},
   "outputs": [],
   "source": [
    "# Define device\n",
    "device = torch.device(\"cuda\" if torch.cuda.is_available() else \"cpu\")"
   ]
  },
  {
   "cell_type": "markdown",
   "id": "ca69a77f-b64b-4b07-98a9-7dca0ade7747",
   "metadata": {},
   "source": [
    "# 3. Building the Models"
   ]
  },
  {
   "cell_type": "markdown",
   "id": "ca1516ac-9c84-47f0-b58a-b9406645e5ab",
   "metadata": {},
   "source": [
    "## (i) Building the MLP Model"
   ]
  },
  {
   "cell_type": "code",
   "execution_count": 12,
   "id": "f315c855-5622-44c6-ab73-0bbd6322964d",
   "metadata": {},
   "outputs": [],
   "source": [
    "import torch.nn as nn\n",
    "import torch.nn.functional as F\n",
    "\n",
    "class MLP(nn.Module):\n",
    "    def __init__(self):\n",
    "        super(MLP, self).__init__()\n",
    "        self.fc1 = nn.Linear(28*28, 512)\n",
    "        self.fc2 = nn.Linear(512, 256)\n",
    "        self.fc3 = nn.Linear(256, 128)\n",
    "        self.fc4 = nn.Linear(128, 10)\n",
    "    \n",
    "    def forward(self, x):\n",
    "        x = x.view(-1, 28*28)\n",
    "        x = F.relu(self.fc1(x))\n",
    "        x = F.relu(self.fc2(x))\n",
    "        x = F.relu(self.fc3(x))\n",
    "        x = self.fc4(x)\n",
    "        return x\n",
    "\n",
    "# Ensure the model is moved to the device\n",
    "device = torch.device(\"cuda\" if torch.cuda.is_available() else \"cpu\")\n",
    "mlp_model =MLP().to(device)\n",
    "\n",
    "MLP_model = MLP()"
   ]
  },
  {
   "cell_type": "code",
   "execution_count": 13,
   "id": "5c8c1bec-a0f2-41f8-aae3-aff204cd26aa",
   "metadata": {},
   "outputs": [
    {
     "name": "stdout",
     "output_type": "stream",
     "text": [
      "MLP(\n",
      "  (fc1): Linear(in_features=784, out_features=512, bias=True)\n",
      "  (fc2): Linear(in_features=512, out_features=256, bias=True)\n",
      "  (fc3): Linear(in_features=256, out_features=128, bias=True)\n",
      "  (fc4): Linear(in_features=128, out_features=10, bias=True)\n",
      ")\n",
      "----------------------------------------------------------------\n",
      "        Layer (type)               Output Shape         Param #\n",
      "================================================================\n",
      "            Linear-1                  [-1, 512]         401,920\n",
      "            Linear-2                  [-1, 256]         131,328\n",
      "            Linear-3                  [-1, 128]          32,896\n",
      "            Linear-4                   [-1, 10]           1,290\n",
      "================================================================\n",
      "Total params: 567,434\n",
      "Trainable params: 567,434\n",
      "Non-trainable params: 0\n",
      "----------------------------------------------------------------\n",
      "Input size (MB): 0.00\n",
      "Forward/backward pass size (MB): 0.01\n",
      "Params size (MB): 2.16\n",
      "Estimated Total Size (MB): 2.17\n",
      "----------------------------------------------------------------\n"
     ]
    }
   ],
   "source": [
    "print(MLP_model)\n",
    "summary(MLP_model, (1, 28, 28))"
   ]
  },
  {
   "cell_type": "markdown",
   "id": "90ca4fd2-f18c-473f-88bb-fd5e3942ffdd",
   "metadata": {},
   "source": [
    "## (ii) Building the CNN Model"
   ]
  },
  {
   "cell_type": "code",
   "execution_count": 14,
   "id": "c1226d61-52e3-44de-aeb4-2291a1c0ac5d",
   "metadata": {},
   "outputs": [],
   "source": [
    "class SimpleCNN(nn.Module):\n",
    "    def __init__(self):\n",
    "        super(SimpleCNN, self).__init__()\n",
    "        self.conv1 = nn.Conv2d(1, 32, kernel_size=3, stride=1, padding=1)\n",
    "        self.conv2 = nn.Conv2d(32, 64, kernel_size=3, stride=1, padding=1)\n",
    "        self.fc1 = nn.Linear(64 * 7 * 7, 128)\n",
    "        self.fc2 = nn.Linear(128, 10)\n",
    "    \n",
    "    def forward(self, x):\n",
    "        x = F.relu(self.conv1(x))\n",
    "        x = F.max_pool2d(x, 2)\n",
    "        x = F.relu(self.conv2(x))\n",
    "        x = F.max_pool2d(x, 2)\n",
    "        x = x.view(-1, 64 * 7 * 7)\n",
    "        x = F.relu(self.fc1(x))\n",
    "        x = self.fc2(x)\n",
    "        return x\n",
    "\n",
    "# Ensure the model is moved to the device\n",
    "device = torch.device(\"cuda\" if torch.cuda.is_available() else \"cpu\")\n",
    "SimpleCNN_model = SimpleCNN().to(device)"
   ]
  },
  {
   "cell_type": "code",
   "execution_count": 15,
   "id": "d801f52b-7491-4e62-a90b-c5473b68ca90",
   "metadata": {},
   "outputs": [
    {
     "name": "stdout",
     "output_type": "stream",
     "text": [
      "SimpleCNN(\n",
      "  (conv1): Conv2d(1, 32, kernel_size=(3, 3), stride=(1, 1), padding=(1, 1))\n",
      "  (conv2): Conv2d(32, 64, kernel_size=(3, 3), stride=(1, 1), padding=(1, 1))\n",
      "  (fc1): Linear(in_features=3136, out_features=128, bias=True)\n",
      "  (fc2): Linear(in_features=128, out_features=10, bias=True)\n",
      ")\n",
      "----------------------------------------------------------------\n",
      "        Layer (type)               Output Shape         Param #\n",
      "================================================================\n",
      "            Conv2d-1           [-1, 32, 28, 28]             320\n",
      "            Conv2d-2           [-1, 64, 14, 14]          18,496\n",
      "            Linear-3                  [-1, 128]         401,536\n",
      "            Linear-4                   [-1, 10]           1,290\n",
      "================================================================\n",
      "Total params: 421,642\n",
      "Trainable params: 421,642\n",
      "Non-trainable params: 0\n",
      "----------------------------------------------------------------\n",
      "Input size (MB): 0.00\n",
      "Forward/backward pass size (MB): 0.29\n",
      "Params size (MB): 1.61\n",
      "Estimated Total Size (MB): 1.90\n",
      "----------------------------------------------------------------\n"
     ]
    }
   ],
   "source": [
    "print(SimpleCNN_model)\n",
    "summary(SimpleCNN_model, (1, 28, 28))"
   ]
  },
  {
   "cell_type": "markdown",
   "id": "86a5eabd-af27-490a-a547-cc294c9a999d",
   "metadata": {},
   "source": [
    "## (iii) Building the LeNet-5 Model"
   ]
  },
  {
   "cell_type": "code",
   "execution_count": 16,
   "id": "aaab6a7e-81e9-44ff-b480-18a7b855b3f6",
   "metadata": {},
   "outputs": [],
   "source": [
    "# Created LeNet5 Model CLass\n",
    "import torch.nn as nn\n",
    "import torch.nn.functional as F\n",
    "\n",
    "class LeNet5(nn.Module):\n",
    "    def __init__(self):\n",
    "        super(LeNet5, self).__init__()\n",
    "        self.conv1 = nn.Conv2d(1, 6, kernel_size=5)\n",
    "        self.conv2 = nn.Conv2d(6, 16, kernel_size=5)\n",
    "        self.fc1 = nn.Linear(16*4*4, 120)\n",
    "        self.fc2 = nn.Linear(120, 84)\n",
    "        self.fc3 = nn.Linear(84, 10) \n",
    "\n",
    "    def forward(self, x):\n",
    "        x = F.relu(self.conv1(x))\n",
    "        x = F.max_pool2d(x, 2)\n",
    "        x = F.relu(self.conv2(x))\n",
    "        x = F.max_pool2d(x, 2)\n",
    "        x = x.view(-1, 16*4*4)\n",
    "        x = F.relu(self.fc1(x))\n",
    "        x = F.relu(self.fc2(x))\n",
    "        x = self.fc3(x)\n",
    "        return x\n",
    "\n",
    "model = LeNet5()"
   ]
  },
  {
   "cell_type": "code",
   "execution_count": 17,
   "id": "05a08886-4bfd-4821-a3ee-0d77eac897dd",
   "metadata": {},
   "outputs": [
    {
     "name": "stdout",
     "output_type": "stream",
     "text": [
      "LeNet5(\n",
      "  (conv1): Conv2d(1, 6, kernel_size=(5, 5), stride=(1, 1))\n",
      "  (conv2): Conv2d(6, 16, kernel_size=(5, 5), stride=(1, 1))\n",
      "  (fc1): Linear(in_features=256, out_features=120, bias=True)\n",
      "  (fc2): Linear(in_features=120, out_features=84, bias=True)\n",
      "  (fc3): Linear(in_features=84, out_features=10, bias=True)\n",
      ")\n",
      "----------------------------------------------------------------\n",
      "        Layer (type)               Output Shape         Param #\n",
      "================================================================\n",
      "            Conv2d-1            [-1, 6, 24, 24]             156\n",
      "            Conv2d-2             [-1, 16, 8, 8]           2,416\n",
      "            Linear-3                  [-1, 120]          30,840\n",
      "            Linear-4                   [-1, 84]          10,164\n",
      "            Linear-5                   [-1, 10]             850\n",
      "================================================================\n",
      "Total params: 44,426\n",
      "Trainable params: 44,426\n",
      "Non-trainable params: 0\n",
      "----------------------------------------------------------------\n",
      "Input size (MB): 0.00\n",
      "Forward/backward pass size (MB): 0.04\n",
      "Params size (MB): 0.17\n",
      "Estimated Total Size (MB): 0.21\n",
      "----------------------------------------------------------------\n"
     ]
    }
   ],
   "source": [
    "print(model)\n",
    "summary(model, (1, 28, 28))"
   ]
  },
  {
   "cell_type": "markdown",
   "id": "061d862f-2553-42c3-809f-6e88b2ee09a8",
   "metadata": {},
   "source": [
    "# 4. Training the Models"
   ]
  },
  {
   "cell_type": "code",
   "execution_count": 18,
   "id": "80126f9f-15f7-4531-9d12-d6ad56e988f7",
   "metadata": {},
   "outputs": [],
   "source": [
    "def train_model(model, train_loader, val_loader, criterion, optimizer, device, num_epochs=10):\n",
    "    train_accuracies = []\n",
    "    val_accuracies = []\n",
    "    train_losses = []\n",
    "    val_losses = []\n",
    "\n",
    "    for epoch in range(num_epochs):\n",
    "        model.train()\n",
    "        running_train_loss = 0.0\n",
    "        correct_train = 0\n",
    "        total_train = 0\n",
    "\n",
    "        for images, labels in train_loader:\n",
    "            images, labels = images.to(device), labels.to(device)\n",
    "            optimizer.zero_grad()\n",
    "            outputs = model(images)\n",
    "            loss = criterion(outputs, labels)\n",
    "            loss.backward()\n",
    "            optimizer.step()\n",
    "            running_train_loss += loss.item()\n",
    "\n",
    "            _, predicted = torch.max(outputs, 1)\n",
    "            total_train += labels.size(0)\n",
    "            correct_train += (predicted == labels).sum().item()\n",
    "\n",
    "        train_accuracy = 100 * correct_train / total_train\n",
    "        train_accuracies.append(train_accuracy)\n",
    "        train_losses.append(running_train_loss / len(train_loader))\n",
    "\n",
    "        model.eval()\n",
    "        running_val_loss = 0.0\n",
    "        correct_val = 0\n",
    "        total_val = 0\n",
    "\n",
    "        with torch.no_grad():\n",
    "            for images, labels in val_loader:\n",
    "                images, labels = images.to(device), labels.to(device)\n",
    "                outputs = model(images)\n",
    "                loss = criterion(outputs, labels)\n",
    "                running_val_loss += loss.item()\n",
    "\n",
    "                _, predicted = torch.max(outputs, 1)\n",
    "                total_val += labels.size(0)\n",
    "                correct_val += (predicted == labels).sum().item()\n",
    "\n",
    "        val_accuracy = 100 * correct_val / total_val\n",
    "        val_accuracies.append(val_accuracy)\n",
    "        val_losses.append(running_val_loss / len(val_loader))\n",
    "\n",
    "        print(f\"Epoch {epoch+1}/{num_epochs}, Train Loss: {train_losses[-1]:.4f}, Train Accuracy: {train_accuracy:.2f}%, Validation Loss: {val_losses[-1]:.4f}, Validation Accuracy: {val_accuracy:.2f}%\")\n",
    "\n",
    "    # Plotting Training and Validation Accuracy\n",
    "    plt.figure(figsize=(12, 6))\n",
    "    plt.subplot(1, 2, 1)\n",
    "    plt.plot(range(1, num_epochs+1), train_accuracies, label='Train Accuracy')\n",
    "    plt.plot(range(1, num_epochs+1), val_accuracies, label='Validation Accuracy')\n",
    "    plt.xlabel('Epoch')\n",
    "    plt.ylabel('Accuracy (%)')\n",
    "    plt.title('Training and Validation Accuracy')\n",
    "    plt.legend()\n",
    "    plt.grid(True)\n",
    "\n",
    "    # Plotting Training and Validation Loss\n",
    "    plt.subplot(1, 2, 2)\n",
    "    plt.plot(range(1, num_epochs+1), train_losses, label='Train Loss')\n",
    "    plt.plot(range(1, num_epochs+1), val_losses, label='Validation Loss')\n",
    "    plt.xlabel('Epoch')\n",
    "    plt.ylabel('Loss')\n",
    "    plt.title('Training and Validation Loss')\n",
    "    plt.legend()\n",
    "    plt.grid(True)\n",
    "\n",
    "    plt.tight_layout()\n",
    "    plt.show()\n",
    "\n",
    "    return model"
   ]
  },
  {
   "cell_type": "markdown",
   "id": "c72ba9b2-7015-4bfc-9a46-8452a8f22ca1",
   "metadata": {},
   "source": [
    "## (i) Training the MLP model"
   ]
  },
  {
   "cell_type": "code",
   "execution_count": 19,
   "id": "695fe71b-d807-488a-ae6a-5a22d23d4976",
   "metadata": {},
   "outputs": [
    {
     "name": "stdout",
     "output_type": "stream",
     "text": [
      "Epoch 1/10, Train Loss: 0.7199, Train Accuracy: 78.67%, Validation Loss: 0.2397, Validation Accuracy: 92.81%\n",
      "Epoch 2/10, Train Loss: 0.1868, Train Accuracy: 94.50%, Validation Loss: 0.1610, Validation Accuracy: 95.22%\n",
      "Epoch 3/10, Train Loss: 0.1182, Train Accuracy: 96.52%, Validation Loss: 0.1119, Validation Accuracy: 96.56%\n",
      "Epoch 4/10, Train Loss: 0.0861, Train Accuracy: 97.46%, Validation Loss: 0.1004, Validation Accuracy: 96.93%\n",
      "Epoch 5/10, Train Loss: 0.0664, Train Accuracy: 97.93%, Validation Loss: 0.0831, Validation Accuracy: 97.43%\n",
      "Epoch 6/10, Train Loss: 0.0508, Train Accuracy: 98.49%, Validation Loss: 0.0860, Validation Accuracy: 97.36%\n",
      "Epoch 7/10, Train Loss: 0.0403, Train Accuracy: 98.77%, Validation Loss: 0.0733, Validation Accuracy: 97.74%\n",
      "Epoch 8/10, Train Loss: 0.0297, Train Accuracy: 99.11%, Validation Loss: 0.0790, Validation Accuracy: 97.74%\n",
      "Epoch 9/10, Train Loss: 0.0229, Train Accuracy: 99.33%, Validation Loss: 0.0762, Validation Accuracy: 97.89%\n",
      "Epoch 10/10, Train Loss: 0.0170, Train Accuracy: 99.53%, Validation Loss: 0.0796, Validation Accuracy: 97.84%\n"
     ]
    },
    {
     "data": {
      "image/png": "[encoded data removed]",
      "text/plain": [
       "<Figure size 1200x600 with 2 Axes>"
      ]
     },
     "metadata": {},
     "output_type": "display_data"
    }
   ],
   "source": [
    "# Instantiate the model, criterion, and optimizer\n",
    "model = MLP().to(device)\n",
    "criterion = nn.CrossEntropyLoss()\n",
    "optimizer = optim.SGD(model.parameters(), lr=0.01, momentum=0.9)\n",
    "\n",
    "# Train the model\n",
    "MLP_model = train_model(model, train_loader, val_loader, criterion, optimizer, device)"
   ]
  },
  {
   "cell_type": "markdown",
   "id": "58115663-dfb4-47ea-a0e3-ede516a2f621",
   "metadata": {},
   "source": [
    "## (ii) Training the CNN Model"
   ]
  },
  {
   "cell_type": "code",
   "execution_count": null,
   "id": "730ec734-b88b-40ca-85a3-ff8c7d383885",
   "metadata": {},
   "outputs": [
    {
     "name": "stdout",
     "output_type": "stream",
     "text": [
      "Epoch 1/10, Train Loss: 0.3678, Train Accuracy: 88.60%, Validation Loss: 0.0955, Validation Accuracy: 97.00%\n",
      "Epoch 2/10, Train Loss: 0.0762, Train Accuracy: 97.62%, Validation Loss: 0.0633, Validation Accuracy: 98.07%\n",
      "Epoch 3/10, Train Loss: 0.0521, Train Accuracy: 98.41%, Validation Loss: 0.0531, Validation Accuracy: 98.26%\n",
      "Epoch 4/10, Train Loss: 0.0419, Train Accuracy: 98.74%, Validation Loss: 0.0410, Validation Accuracy: 98.83%\n",
      "Epoch 5/10, Train Loss: 0.0329, Train Accuracy: 98.99%, Validation Loss: 0.0416, Validation Accuracy: 98.78%\n",
      "Epoch 6/10, Train Loss: 0.0267, Train Accuracy: 99.20%, Validation Loss: 0.0361, Validation Accuracy: 98.97%\n",
      "Epoch 7/10, Train Loss: 0.0226, Train Accuracy: 99.31%, Validation Loss: 0.0366, Validation Accuracy: 98.94%\n"
     ]
    }
   ],
   "source": [
    "model = SimpleCNN().to(device)\n",
    "criterion = nn.CrossEntropyLoss()\n",
    "optimizer = optim.SGD(model.parameters(), lr=0.01, momentum=0.9)\n",
    "\n",
    "# Train the model\n",
    "CNN_model = train_model(model, train_loader, val_loader, criterion, optimizer, device)"
   ]
  },
  {
   "cell_type": "markdown",
   "id": "1af474bc-c923-476e-82fd-52c301c11b9a",
   "metadata": {},
   "source": [
    "## (iii) Training the LeNet-5 Model"
   ]
  },
  {
   "cell_type": "code",
   "execution_count": null,
   "id": "822581c6-e87a-4fce-977a-16cba91e399a",
   "metadata": {},
   "outputs": [],
   "source": [
    "# Instantiate the model, criterion, and optimizer\n",
    "model = LeNet5().to(device)\n",
    "criterion = nn.CrossEntropyLoss()\n",
    "optimizer = optim.SGD(model.parameters(), lr=0.01, momentum=0.9)\n",
    "# Train the model\n",
    "lenet_model = train_model(model, train_loader, val_loader, criterion, optimizer, device)"
   ]
  },
  {
   "cell_type": "markdown",
   "id": "bf45a4dc-d1d2-4881-b145-66f76cb7c34e",
   "metadata": {},
   "source": [
    "# 5. Testing the Model Accuracy"
   ]
  },
  {
   "cell_type": "code",
   "execution_count": null,
   "id": "89016e2c-1aaf-442b-8e0d-4f23afa81bf7",
   "metadata": {},
   "outputs": [],
   "source": [
    "def evaluate_model(model, test_loader, device):\n",
    "    model.eval()\n",
    "    correct = 0\n",
    "    total = 0\n",
    "\n",
    "    with torch.no_grad():\n",
    "        for images, labels in test_loader:\n",
    "            images, labels = images.to(device), labels.to(device)\n",
    "            outputs = model(images)\n",
    "            _, predicted = torch.max(outputs, 1)\n",
    "            total += labels.size(0)\n",
    "            correct += (predicted == labels).sum().item()\n",
    "\n",
    "    test_accuracy = 100 * correct / total\n",
    "    print(f'Test Accuracy: {test_accuracy:.2f}%')"
   ]
  },
  {
   "cell_type": "markdown",
   "id": "c0ac2615-3697-4914-821d-b4478ddc04aa",
   "metadata": {},
   "source": [
    "## (i) MLP Model Accuracy"
   ]
  },
  {
   "cell_type": "code",
   "execution_count": 144,
   "id": "2010e0c8-0748-492a-a4d4-80d7e1644761",
   "metadata": {},
   "outputs": [
    {
     "name": "stdout",
     "output_type": "stream",
     "text": [
      "Test Accuracy: 97.70%\n"
     ]
    }
   ],
   "source": [
    "evaluate_model(MLP_model, test_loader, device)"
   ]
  },
  {
   "cell_type": "markdown",
   "id": "f63544ed-a0d3-494b-8dfc-c78430f40549",
   "metadata": {},
   "source": [
    "## (ii) CNN Model Accuracy"
   ]
  },
  {
   "cell_type": "code",
   "execution_count": 156,
   "id": "2bcf2ec6-d021-4904-bf36-6f687213f253",
   "metadata": {},
   "outputs": [
    {
     "name": "stdout",
     "output_type": "stream",
     "text": [
      "Test Accuracy: 99.16%\n"
     ]
    }
   ],
   "source": [
    "evaluate_model(CNN_model, test_loader, device)"
   ]
  },
  {
   "cell_type": "markdown",
   "id": "35163f01-c4e7-41d5-af7c-5f8ea4fd0489",
   "metadata": {},
   "source": [
    "## (iii) LeNet-5 Model Accuracy"
   ]
  },
  {
   "cell_type": "code",
   "execution_count": 154,
   "id": "0d929807-4537-4f5c-985b-4fff6a3abb14",
   "metadata": {},
   "outputs": [
    {
     "name": "stdout",
     "output_type": "stream",
     "text": [
      "Test Accuracy: 98.82%\n"
     ]
    }
   ],
   "source": [
    "evaluate_model(lenet_model, test_loader, device)"
   ]
  }
 ],
 "metadata": {
  "kernelspec": {
   "display_name": "new_ker1",
   "language": "python",
   "name": "new_ker1"
  },
  "language_info": {
   "codemirror_mode": {
    "name": "ipython",
    "version": 3
   },
   "file_extension": ".py",
   "mimetype": "text/x-python",
   "name": "python",
   "nbconvert_exporter": "python",
   "pygments_lexer": "ipython3",
   "version": "3.12.3"
  }
 },
 "nbformat": 4,
 "nbformat_minor": 5
}
